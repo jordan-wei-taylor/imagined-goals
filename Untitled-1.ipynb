{
 "cells": [
  {
   "cell_type": "code",
   "execution_count": 1,
   "metadata": {},
   "outputs": [],
   "source": [
    "import rlig\n",
    "from   scipy.stats import multivariate_normal\n",
    "import numpy as np\n",
    "import torch\n",
    "\n",
    "from   rlig.base import Base\n",
    "from   rlig.agent import TD3\n",
    "from   rlig.buffer import ReplayBuffer\n",
    "from   rlig.pytorch.bvae import BetaVAE\n",
    "import gym\n",
    "\n",
    "env = gym.make('LunarLanderContinuous-v2')"
   ]
  },
  {
   "cell_type": "code",
   "execution_count": 51,
   "metadata": {},
   "outputs": [],
   "source": [
    "class ImaginedGoalsAgent(Base):\n",
    "\n",
    "    def __init__(self, Q, bvae, buffer, gamma = 0.99):\n",
    "        super().__init__(locals())\n",
    "\n",
    "    def store(self, *args):\n",
    "        self.buffer.store(*args)\n",
    "\n",
    "    def sample(self, n = 1):\n",
    "        return self.buffer.sample(n)\n",
    "\n",
    "    def get_action(self, state, latent_goal):\n",
    "        return self.Q.select_action(torch.concat([torch.Tensor(state), torch.Tensor(latent_goal)]))\n",
    "\n",
    "    def recall_states(self):\n",
    "        return torch.Tensor(list(zip(*self.buffer.buffer))[0])\n",
    "\n",
    "    def fit(self, enc_state, action, enc_next_state, latent_goal, reward, done):\n",
    "        state      = torch.concat([enc_state     , latent_goal])\n",
    "        next_state = torch.concat([enc_next_state, latent_goal])\n",
    "        self.Q.train(state, action, reward, next_state, done)\n",
    "\n",
    "    def prior(self, states):\n",
    "        _, z_mu, _ = self.bvae(states)\n",
    "        z_np       = z_mu.detach().numpy()\n",
    "        mu, cov    = np.mean(z_np, axis = 0), np.cov(z_np, rowvar = False)\n",
    "        return multivariate_normal(mu, cov, allow_singular = True)"
   ]
  },
  {
   "cell_type": "code",
   "execution_count": 52,
   "metadata": {},
   "outputs": [],
   "source": [
    "def rig(env, agent, n_episodes, n_exploration, epochs = 10, K = 10):\n",
    "    D   = exploration_policy(env, n_exploration)\n",
    "    agent.bvae.fit(D, epochs = epochs)\n",
    "    p_z = agent.prior(D)\n",
    "    for i in range(n_episodes):\n",
    "        z_g   = p_z.rvs()\n",
    "        T     = 0\n",
    "        done  = False\n",
    "        state = env.reset()\n",
    "        while not done:\n",
    "            action = agent.get_action(state, z_g)\n",
    "            next_state, reward, done, info = env.step(action)\n",
    "            agent.store(state, action, reward, next_state, z_g, done)\n",
    "            T += 1\n",
    "            (state, action, reward, next_state_, z_g, done) = agent.sample()\n",
    "            z  = agent.bvae.mean_encode(state)\n",
    "            z_ = agent.bvae.mean_encode(next_state_)\n",
    "            if np.random.binomial(1, 0.5):\n",
    "                z_g = p_z.rvs()\n",
    "            reward += torch.cdist(z, z_)\n",
    "            agent.fit(z, action, z_, z_g, reward, done)\n",
    "        for t in range(T):\n",
    "            state, action, reward, next_state, _ = agent.buffer[-T + t]\n",
    "            for _ in range(K):\n",
    "                i = np.random.randint(-T + t, -1)\n",
    "                future = agent.buffer[i][2]\n",
    "                z_g    = agent.bvae.mean_encode(future)\n",
    "                agent.store(state, action, reward, next_state, z_g, done)\n",
    "        \n",
    "        if i and i % K:\n",
    "            R = agent.recall_states()\n",
    "            M = torch.concat(D, R)\n",
    "            agent.bvae.fit(M)\n",
    "            p_z = agent.prior(M)"
   ]
  },
  {
   "cell_type": "code",
   "execution_count": 53,
   "metadata": {},
   "outputs": [],
   "source": [
    "def exploration_policy(env, N):\n",
    "    states = [env.reset()]\n",
    "    n      = 1\n",
    "    while n < N:\n",
    "        state, reward, done, info = env.step(env.action_space.sample())\n",
    "        states.append(state)\n",
    "        n += 1 + done\n",
    "        if done:\n",
    "            states.append(env.reset())\n",
    "\n",
    "    return torch.Tensor(states)\n",
    "    \n"
   ]
  },
  {
   "cell_type": "code",
   "execution_count": 54,
   "metadata": {},
   "outputs": [
    {
     "data": {
      "text/plain": [
       "TD3(state_dim=40, neurons=[64, 64], action_dim=2, max_action=1, discount=0.99, tau=0.005, policy_noise=0.2, noise_clip=0.5, policy_freq=2)"
      ]
     },
     "execution_count": 54,
     "metadata": {},
     "output_type": "execute_result"
    }
   ],
   "source": [
    "\n",
    "env_dim    = env.observation_space.shape[0]\n",
    "latent_dim = 32\n",
    "\n",
    "in_dim     = env_dim + latent_dim\n",
    "Q = TD3(in_dim, [64, 64], env.action_space.shape[0], 1)\n",
    "Q\n"
   ]
  },
  {
   "cell_type": "code",
   "execution_count": 55,
   "metadata": {},
   "outputs": [],
   "source": [
    "\n",
    "bvae = BetaVAE([env_dim, 64, 128], [64, 64, env_dim])"
   ]
  },
  {
   "cell_type": "code",
   "execution_count": 56,
   "metadata": {},
   "outputs": [
    {
     "data": {
      "text/plain": [
       "Sequential(\n",
       "  (0): Linear(in_features=8, out_features=64, bias=True)\n",
       "  (1): ReLU(inplace=True)\n",
       "  (2): Linear(in_features=64, out_features=128, bias=True)\n",
       ")"
      ]
     },
     "execution_count": 56,
     "metadata": {},
     "output_type": "execute_result"
    }
   ],
   "source": [
    "bvae.encoder"
   ]
  },
  {
   "cell_type": "code",
   "execution_count": 57,
   "metadata": {},
   "outputs": [],
   "source": [
    "agent = ImaginedGoalsAgent(Q, bvae, ReplayBuffer())"
   ]
  },
  {
   "cell_type": "code",
   "execution_count": 58,
   "metadata": {},
   "outputs": [
    {
     "name": "stderr",
     "output_type": "stream",
     "text": [
      "/home/jordan/git-workspace/imagined-goals/rlig-env/lib/python3.10/site-packages/torch/nn/_reduction.py:42: UserWarning: size_average and reduce args will be deprecated, please use reduction='sum' instead.\n",
      "  warnings.warn(warning.format(ret))\n"
     ]
    },
    {
     "ename": "RuntimeError",
     "evalue": "mat1 and mat2 shapes cannot be multiplied (1x72 and 40x64)",
     "output_type": "error",
     "traceback": [
      "\u001b[0;31m---------------------------------------------------------------------------\u001b[0m",
      "\u001b[0;31mRuntimeError\u001b[0m                              Traceback (most recent call last)",
      "\u001b[1;32m/home/jordan/git-workspace/imagined-goals/Untitled-1.ipynb Cell 9'\u001b[0m in \u001b[0;36m<cell line: 4>\u001b[0;34m()\u001b[0m\n\u001b[1;32m      <a href='vscode-notebook-cell:/home/jordan/git-workspace/imagined-goals/Untitled-1.ipynb#ch0000010?line=7'>8</a>\u001b[0m state \u001b[39m=\u001b[39m env\u001b[39m.\u001b[39mreset()\n\u001b[1;32m      <a href='vscode-notebook-cell:/home/jordan/git-workspace/imagined-goals/Untitled-1.ipynb#ch0000010?line=8'>9</a>\u001b[0m \u001b[39mwhile\u001b[39;00m \u001b[39mnot\u001b[39;00m done:\n\u001b[0;32m---> <a href='vscode-notebook-cell:/home/jordan/git-workspace/imagined-goals/Untitled-1.ipynb#ch0000010?line=9'>10</a>\u001b[0m     action \u001b[39m=\u001b[39m agent\u001b[39m.\u001b[39;49mget_action(state, z_g)\n\u001b[1;32m     <a href='vscode-notebook-cell:/home/jordan/git-workspace/imagined-goals/Untitled-1.ipynb#ch0000010?line=10'>11</a>\u001b[0m     next_state, reward, done, info \u001b[39m=\u001b[39m env\u001b[39m.\u001b[39mstep(action)\n\u001b[1;32m     <a href='vscode-notebook-cell:/home/jordan/git-workspace/imagined-goals/Untitled-1.ipynb#ch0000010?line=11'>12</a>\u001b[0m     agent\u001b[39m.\u001b[39mstore(state, action, reward, next_state, z_g, done)\n",
      "\u001b[1;32m/home/jordan/git-workspace/imagined-goals/Untitled-1.ipynb Cell 2'\u001b[0m in \u001b[0;36mImaginedGoalsAgent.get_action\u001b[0;34m(self, state, latent_goal)\u001b[0m\n\u001b[1;32m     <a href='vscode-notebook-cell:/home/jordan/git-workspace/imagined-goals/Untitled-1.ipynb#ch0000001?line=11'>12</a>\u001b[0m \u001b[39mdef\u001b[39;00m \u001b[39mget_action\u001b[39m(\u001b[39mself\u001b[39m, state, latent_goal):\n\u001b[0;32m---> <a href='vscode-notebook-cell:/home/jordan/git-workspace/imagined-goals/Untitled-1.ipynb#ch0000001?line=12'>13</a>\u001b[0m     \u001b[39mreturn\u001b[39;00m \u001b[39mself\u001b[39;49m\u001b[39m.\u001b[39;49mQ\u001b[39m.\u001b[39;49mselect_action(torch\u001b[39m.\u001b[39;49mconcat([torch\u001b[39m.\u001b[39;49mTensor(state), torch\u001b[39m.\u001b[39;49mTensor(latent_goal)]))\n",
      "File \u001b[0;32m~/git-workspace/imagined-goals/rlig-env/lib/python3.10/site-packages/rlig/agent.py:42\u001b[0m, in \u001b[0;36mTD3.select_action\u001b[0;34m(self, state)\u001b[0m\n\u001b[1;32m     <a href='file:///home/jordan/git-workspace/imagined-goals/rlig-env/lib/python3.10/site-packages/rlig/agent.py?line=39'>40</a>\u001b[0m \u001b[39mdef\u001b[39;00m \u001b[39mselect_action\u001b[39m(\u001b[39mself\u001b[39m, state):\n\u001b[1;32m     <a href='file:///home/jordan/git-workspace/imagined-goals/rlig-env/lib/python3.10/site-packages/rlig/agent.py?line=40'>41</a>\u001b[0m     state \u001b[39m=\u001b[39m torch\u001b[39m.\u001b[39mFloatTensor(state\u001b[39m.\u001b[39mreshape(\u001b[39m1\u001b[39m, \u001b[39m-\u001b[39m\u001b[39m1\u001b[39m))\u001b[39m.\u001b[39mto(device)\n\u001b[0;32m---> <a href='file:///home/jordan/git-workspace/imagined-goals/rlig-env/lib/python3.10/site-packages/rlig/agent.py?line=41'>42</a>\u001b[0m     numpy \u001b[39m=\u001b[39m \u001b[39mself\u001b[39;49m\u001b[39m.\u001b[39;49mactor(state)\u001b[39m.\u001b[39mto(device)\u001b[39m.\u001b[39mdata\u001b[39m.\u001b[39mnumpy()\n\u001b[1;32m     <a href='file:///home/jordan/git-workspace/imagined-goals/rlig-env/lib/python3.10/site-packages/rlig/agent.py?line=42'>43</a>\u001b[0m     \u001b[39mreturn\u001b[39;00m numpy\u001b[39m.\u001b[39mreshape(numpy\u001b[39m.\u001b[39mshape[\u001b[39m1\u001b[39m:])\n",
      "File \u001b[0;32m~/git-workspace/imagined-goals/rlig-env/lib/python3.10/site-packages/torch/nn/modules/module.py:1110\u001b[0m, in \u001b[0;36mModule._call_impl\u001b[0;34m(self, *input, **kwargs)\u001b[0m\n\u001b[1;32m   <a href='file:///home/jordan/git-workspace/imagined-goals/rlig-env/lib/python3.10/site-packages/torch/nn/modules/module.py?line=1105'>1106</a>\u001b[0m \u001b[39m# If we don't have any hooks, we want to skip the rest of the logic in\u001b[39;00m\n\u001b[1;32m   <a href='file:///home/jordan/git-workspace/imagined-goals/rlig-env/lib/python3.10/site-packages/torch/nn/modules/module.py?line=1106'>1107</a>\u001b[0m \u001b[39m# this function, and just call forward.\u001b[39;00m\n\u001b[1;32m   <a href='file:///home/jordan/git-workspace/imagined-goals/rlig-env/lib/python3.10/site-packages/torch/nn/modules/module.py?line=1107'>1108</a>\u001b[0m \u001b[39mif\u001b[39;00m \u001b[39mnot\u001b[39;00m (\u001b[39mself\u001b[39m\u001b[39m.\u001b[39m_backward_hooks \u001b[39mor\u001b[39;00m \u001b[39mself\u001b[39m\u001b[39m.\u001b[39m_forward_hooks \u001b[39mor\u001b[39;00m \u001b[39mself\u001b[39m\u001b[39m.\u001b[39m_forward_pre_hooks \u001b[39mor\u001b[39;00m _global_backward_hooks\n\u001b[1;32m   <a href='file:///home/jordan/git-workspace/imagined-goals/rlig-env/lib/python3.10/site-packages/torch/nn/modules/module.py?line=1108'>1109</a>\u001b[0m         \u001b[39mor\u001b[39;00m _global_forward_hooks \u001b[39mor\u001b[39;00m _global_forward_pre_hooks):\n\u001b[0;32m-> <a href='file:///home/jordan/git-workspace/imagined-goals/rlig-env/lib/python3.10/site-packages/torch/nn/modules/module.py?line=1109'>1110</a>\u001b[0m     \u001b[39mreturn\u001b[39;00m forward_call(\u001b[39m*\u001b[39;49m\u001b[39minput\u001b[39;49m, \u001b[39m*\u001b[39;49m\u001b[39m*\u001b[39;49mkwargs)\n\u001b[1;32m   <a href='file:///home/jordan/git-workspace/imagined-goals/rlig-env/lib/python3.10/site-packages/torch/nn/modules/module.py?line=1110'>1111</a>\u001b[0m \u001b[39m# Do not call functions when jit is used\u001b[39;00m\n\u001b[1;32m   <a href='file:///home/jordan/git-workspace/imagined-goals/rlig-env/lib/python3.10/site-packages/torch/nn/modules/module.py?line=1111'>1112</a>\u001b[0m full_backward_hooks, non_full_backward_hooks \u001b[39m=\u001b[39m [], []\n",
      "File \u001b[0;32m~/git-workspace/imagined-goals/rlig-env/lib/python3.10/site-packages/rlig/pytorch/models.py:21\u001b[0m, in \u001b[0;36mActor.forward\u001b[0;34m(self, state)\u001b[0m\n\u001b[1;32m     <a href='file:///home/jordan/git-workspace/imagined-goals/rlig-env/lib/python3.10/site-packages/rlig/pytorch/models.py?line=19'>20</a>\u001b[0m \u001b[39mdef\u001b[39;00m \u001b[39mforward\u001b[39m(\u001b[39mself\u001b[39m, state):\n\u001b[0;32m---> <a href='file:///home/jordan/git-workspace/imagined-goals/rlig-env/lib/python3.10/site-packages/rlig/pytorch/models.py?line=20'>21</a>\u001b[0m \t\u001b[39mreturn\u001b[39;00m \u001b[39mself\u001b[39m\u001b[39m.\u001b[39mmax_action \u001b[39m*\u001b[39m \u001b[39mself\u001b[39;49m\u001b[39m.\u001b[39;49mmodel(state)\n",
      "File \u001b[0;32m~/git-workspace/imagined-goals/rlig-env/lib/python3.10/site-packages/torch/nn/modules/module.py:1110\u001b[0m, in \u001b[0;36mModule._call_impl\u001b[0;34m(self, *input, **kwargs)\u001b[0m\n\u001b[1;32m   <a href='file:///home/jordan/git-workspace/imagined-goals/rlig-env/lib/python3.10/site-packages/torch/nn/modules/module.py?line=1105'>1106</a>\u001b[0m \u001b[39m# If we don't have any hooks, we want to skip the rest of the logic in\u001b[39;00m\n\u001b[1;32m   <a href='file:///home/jordan/git-workspace/imagined-goals/rlig-env/lib/python3.10/site-packages/torch/nn/modules/module.py?line=1106'>1107</a>\u001b[0m \u001b[39m# this function, and just call forward.\u001b[39;00m\n\u001b[1;32m   <a href='file:///home/jordan/git-workspace/imagined-goals/rlig-env/lib/python3.10/site-packages/torch/nn/modules/module.py?line=1107'>1108</a>\u001b[0m \u001b[39mif\u001b[39;00m \u001b[39mnot\u001b[39;00m (\u001b[39mself\u001b[39m\u001b[39m.\u001b[39m_backward_hooks \u001b[39mor\u001b[39;00m \u001b[39mself\u001b[39m\u001b[39m.\u001b[39m_forward_hooks \u001b[39mor\u001b[39;00m \u001b[39mself\u001b[39m\u001b[39m.\u001b[39m_forward_pre_hooks \u001b[39mor\u001b[39;00m _global_backward_hooks\n\u001b[1;32m   <a href='file:///home/jordan/git-workspace/imagined-goals/rlig-env/lib/python3.10/site-packages/torch/nn/modules/module.py?line=1108'>1109</a>\u001b[0m         \u001b[39mor\u001b[39;00m _global_forward_hooks \u001b[39mor\u001b[39;00m _global_forward_pre_hooks):\n\u001b[0;32m-> <a href='file:///home/jordan/git-workspace/imagined-goals/rlig-env/lib/python3.10/site-packages/torch/nn/modules/module.py?line=1109'>1110</a>\u001b[0m     \u001b[39mreturn\u001b[39;00m forward_call(\u001b[39m*\u001b[39;49m\u001b[39minput\u001b[39;49m, \u001b[39m*\u001b[39;49m\u001b[39m*\u001b[39;49mkwargs)\n\u001b[1;32m   <a href='file:///home/jordan/git-workspace/imagined-goals/rlig-env/lib/python3.10/site-packages/torch/nn/modules/module.py?line=1110'>1111</a>\u001b[0m \u001b[39m# Do not call functions when jit is used\u001b[39;00m\n\u001b[1;32m   <a href='file:///home/jordan/git-workspace/imagined-goals/rlig-env/lib/python3.10/site-packages/torch/nn/modules/module.py?line=1111'>1112</a>\u001b[0m full_backward_hooks, non_full_backward_hooks \u001b[39m=\u001b[39m [], []\n",
      "File \u001b[0;32m~/git-workspace/imagined-goals/rlig-env/lib/python3.10/site-packages/torch/nn/modules/container.py:141\u001b[0m, in \u001b[0;36mSequential.forward\u001b[0;34m(self, input)\u001b[0m\n\u001b[1;32m    <a href='file:///home/jordan/git-workspace/imagined-goals/rlig-env/lib/python3.10/site-packages/torch/nn/modules/container.py?line=138'>139</a>\u001b[0m \u001b[39mdef\u001b[39;00m \u001b[39mforward\u001b[39m(\u001b[39mself\u001b[39m, \u001b[39minput\u001b[39m):\n\u001b[1;32m    <a href='file:///home/jordan/git-workspace/imagined-goals/rlig-env/lib/python3.10/site-packages/torch/nn/modules/container.py?line=139'>140</a>\u001b[0m     \u001b[39mfor\u001b[39;00m module \u001b[39min\u001b[39;00m \u001b[39mself\u001b[39m:\n\u001b[0;32m--> <a href='file:///home/jordan/git-workspace/imagined-goals/rlig-env/lib/python3.10/site-packages/torch/nn/modules/container.py?line=140'>141</a>\u001b[0m         \u001b[39minput\u001b[39m \u001b[39m=\u001b[39m module(\u001b[39minput\u001b[39;49m)\n\u001b[1;32m    <a href='file:///home/jordan/git-workspace/imagined-goals/rlig-env/lib/python3.10/site-packages/torch/nn/modules/container.py?line=141'>142</a>\u001b[0m     \u001b[39mreturn\u001b[39;00m \u001b[39minput\u001b[39m\n",
      "File \u001b[0;32m~/git-workspace/imagined-goals/rlig-env/lib/python3.10/site-packages/torch/nn/modules/module.py:1110\u001b[0m, in \u001b[0;36mModule._call_impl\u001b[0;34m(self, *input, **kwargs)\u001b[0m\n\u001b[1;32m   <a href='file:///home/jordan/git-workspace/imagined-goals/rlig-env/lib/python3.10/site-packages/torch/nn/modules/module.py?line=1105'>1106</a>\u001b[0m \u001b[39m# If we don't have any hooks, we want to skip the rest of the logic in\u001b[39;00m\n\u001b[1;32m   <a href='file:///home/jordan/git-workspace/imagined-goals/rlig-env/lib/python3.10/site-packages/torch/nn/modules/module.py?line=1106'>1107</a>\u001b[0m \u001b[39m# this function, and just call forward.\u001b[39;00m\n\u001b[1;32m   <a href='file:///home/jordan/git-workspace/imagined-goals/rlig-env/lib/python3.10/site-packages/torch/nn/modules/module.py?line=1107'>1108</a>\u001b[0m \u001b[39mif\u001b[39;00m \u001b[39mnot\u001b[39;00m (\u001b[39mself\u001b[39m\u001b[39m.\u001b[39m_backward_hooks \u001b[39mor\u001b[39;00m \u001b[39mself\u001b[39m\u001b[39m.\u001b[39m_forward_hooks \u001b[39mor\u001b[39;00m \u001b[39mself\u001b[39m\u001b[39m.\u001b[39m_forward_pre_hooks \u001b[39mor\u001b[39;00m _global_backward_hooks\n\u001b[1;32m   <a href='file:///home/jordan/git-workspace/imagined-goals/rlig-env/lib/python3.10/site-packages/torch/nn/modules/module.py?line=1108'>1109</a>\u001b[0m         \u001b[39mor\u001b[39;00m _global_forward_hooks \u001b[39mor\u001b[39;00m _global_forward_pre_hooks):\n\u001b[0;32m-> <a href='file:///home/jordan/git-workspace/imagined-goals/rlig-env/lib/python3.10/site-packages/torch/nn/modules/module.py?line=1109'>1110</a>\u001b[0m     \u001b[39mreturn\u001b[39;00m forward_call(\u001b[39m*\u001b[39;49m\u001b[39minput\u001b[39;49m, \u001b[39m*\u001b[39;49m\u001b[39m*\u001b[39;49mkwargs)\n\u001b[1;32m   <a href='file:///home/jordan/git-workspace/imagined-goals/rlig-env/lib/python3.10/site-packages/torch/nn/modules/module.py?line=1110'>1111</a>\u001b[0m \u001b[39m# Do not call functions when jit is used\u001b[39;00m\n\u001b[1;32m   <a href='file:///home/jordan/git-workspace/imagined-goals/rlig-env/lib/python3.10/site-packages/torch/nn/modules/module.py?line=1111'>1112</a>\u001b[0m full_backward_hooks, non_full_backward_hooks \u001b[39m=\u001b[39m [], []\n",
      "File \u001b[0;32m~/git-workspace/imagined-goals/rlig-env/lib/python3.10/site-packages/torch/nn/modules/container.py:141\u001b[0m, in \u001b[0;36mSequential.forward\u001b[0;34m(self, input)\u001b[0m\n\u001b[1;32m    <a href='file:///home/jordan/git-workspace/imagined-goals/rlig-env/lib/python3.10/site-packages/torch/nn/modules/container.py?line=138'>139</a>\u001b[0m \u001b[39mdef\u001b[39;00m \u001b[39mforward\u001b[39m(\u001b[39mself\u001b[39m, \u001b[39minput\u001b[39m):\n\u001b[1;32m    <a href='file:///home/jordan/git-workspace/imagined-goals/rlig-env/lib/python3.10/site-packages/torch/nn/modules/container.py?line=139'>140</a>\u001b[0m     \u001b[39mfor\u001b[39;00m module \u001b[39min\u001b[39;00m \u001b[39mself\u001b[39m:\n\u001b[0;32m--> <a href='file:///home/jordan/git-workspace/imagined-goals/rlig-env/lib/python3.10/site-packages/torch/nn/modules/container.py?line=140'>141</a>\u001b[0m         \u001b[39minput\u001b[39m \u001b[39m=\u001b[39m module(\u001b[39minput\u001b[39;49m)\n\u001b[1;32m    <a href='file:///home/jordan/git-workspace/imagined-goals/rlig-env/lib/python3.10/site-packages/torch/nn/modules/container.py?line=141'>142</a>\u001b[0m     \u001b[39mreturn\u001b[39;00m \u001b[39minput\u001b[39m\n",
      "File \u001b[0;32m~/git-workspace/imagined-goals/rlig-env/lib/python3.10/site-packages/torch/nn/modules/module.py:1110\u001b[0m, in \u001b[0;36mModule._call_impl\u001b[0;34m(self, *input, **kwargs)\u001b[0m\n\u001b[1;32m   <a href='file:///home/jordan/git-workspace/imagined-goals/rlig-env/lib/python3.10/site-packages/torch/nn/modules/module.py?line=1105'>1106</a>\u001b[0m \u001b[39m# If we don't have any hooks, we want to skip the rest of the logic in\u001b[39;00m\n\u001b[1;32m   <a href='file:///home/jordan/git-workspace/imagined-goals/rlig-env/lib/python3.10/site-packages/torch/nn/modules/module.py?line=1106'>1107</a>\u001b[0m \u001b[39m# this function, and just call forward.\u001b[39;00m\n\u001b[1;32m   <a href='file:///home/jordan/git-workspace/imagined-goals/rlig-env/lib/python3.10/site-packages/torch/nn/modules/module.py?line=1107'>1108</a>\u001b[0m \u001b[39mif\u001b[39;00m \u001b[39mnot\u001b[39;00m (\u001b[39mself\u001b[39m\u001b[39m.\u001b[39m_backward_hooks \u001b[39mor\u001b[39;00m \u001b[39mself\u001b[39m\u001b[39m.\u001b[39m_forward_hooks \u001b[39mor\u001b[39;00m \u001b[39mself\u001b[39m\u001b[39m.\u001b[39m_forward_pre_hooks \u001b[39mor\u001b[39;00m _global_backward_hooks\n\u001b[1;32m   <a href='file:///home/jordan/git-workspace/imagined-goals/rlig-env/lib/python3.10/site-packages/torch/nn/modules/module.py?line=1108'>1109</a>\u001b[0m         \u001b[39mor\u001b[39;00m _global_forward_hooks \u001b[39mor\u001b[39;00m _global_forward_pre_hooks):\n\u001b[0;32m-> <a href='file:///home/jordan/git-workspace/imagined-goals/rlig-env/lib/python3.10/site-packages/torch/nn/modules/module.py?line=1109'>1110</a>\u001b[0m     \u001b[39mreturn\u001b[39;00m forward_call(\u001b[39m*\u001b[39;49m\u001b[39minput\u001b[39;49m, \u001b[39m*\u001b[39;49m\u001b[39m*\u001b[39;49mkwargs)\n\u001b[1;32m   <a href='file:///home/jordan/git-workspace/imagined-goals/rlig-env/lib/python3.10/site-packages/torch/nn/modules/module.py?line=1110'>1111</a>\u001b[0m \u001b[39m# Do not call functions when jit is used\u001b[39;00m\n\u001b[1;32m   <a href='file:///home/jordan/git-workspace/imagined-goals/rlig-env/lib/python3.10/site-packages/torch/nn/modules/module.py?line=1111'>1112</a>\u001b[0m full_backward_hooks, non_full_backward_hooks \u001b[39m=\u001b[39m [], []\n",
      "File \u001b[0;32m~/git-workspace/imagined-goals/rlig-env/lib/python3.10/site-packages/torch/nn/modules/linear.py:103\u001b[0m, in \u001b[0;36mLinear.forward\u001b[0;34m(self, input)\u001b[0m\n\u001b[1;32m    <a href='file:///home/jordan/git-workspace/imagined-goals/rlig-env/lib/python3.10/site-packages/torch/nn/modules/linear.py?line=101'>102</a>\u001b[0m \u001b[39mdef\u001b[39;00m \u001b[39mforward\u001b[39m(\u001b[39mself\u001b[39m, \u001b[39minput\u001b[39m: Tensor) \u001b[39m-\u001b[39m\u001b[39m>\u001b[39m Tensor:\n\u001b[0;32m--> <a href='file:///home/jordan/git-workspace/imagined-goals/rlig-env/lib/python3.10/site-packages/torch/nn/modules/linear.py?line=102'>103</a>\u001b[0m     \u001b[39mreturn\u001b[39;00m F\u001b[39m.\u001b[39;49mlinear(\u001b[39minput\u001b[39;49m, \u001b[39mself\u001b[39;49m\u001b[39m.\u001b[39;49mweight, \u001b[39mself\u001b[39;49m\u001b[39m.\u001b[39;49mbias)\n",
      "\u001b[0;31mRuntimeError\u001b[0m: mat1 and mat2 shapes cannot be multiplied (1x72 and 40x64)"
     ]
    }
   ],
   "source": [
    "D   = exploration_policy(env, 100)\n",
    "agent.bvae.fit(D, epochs = 2)\n",
    "p_z = agent.prior(D)\n",
    "for i in range(5):\n",
    "    z_g   = p_z.rvs()\n",
    "    T     = 0\n",
    "    done  = False\n",
    "    state = env.reset()\n",
    "    while not done:\n",
    "        action = agent.get_action(state, z_g)\n",
    "        next_state, reward, done, info = env.step(action)\n",
    "        agent.store(state, action, reward, next_state, z_g, done)\n",
    "        T += 1\n",
    "        (state, action, reward, next_state_, z_g, done) = agent.sample()\n",
    "        z  = agent.bvae.mean_encode(state)\n",
    "        z_ = agent.bvae.mean_encode(next_state_)\n",
    "        if np.random.binomial(1, 0.5):\n",
    "            z_g = p_z.rvs()\n",
    "        reward += torch.cdist(z, z_)\n",
    "        agent.fit(z, action, z_, z_g, reward, done)\n",
    "    for t in range(T):\n",
    "        state, action, reward, next_state, _ = agent.buffer[-T + t]\n",
    "        for _ in range(K):\n",
    "            i = np.random.randint(-T + t, -1)\n",
    "            future = agent.buffer[i][2]\n",
    "            z_g    = agent.bvae.mean_encode(future)\n",
    "            agent.store(state, action, reward, next_state, z_g, done)\n",
    "    \n",
    "    if i and i % 1:\n",
    "        R = agent.recall_states()\n",
    "        M = torch.concat(D, R)\n",
    "        agent.bvae.fit(M)\n",
    "        p_z = agent.prior(M)"
   ]
  },
  {
   "cell_type": "code",
   "execution_count": 60,
   "metadata": {},
   "outputs": [
    {
     "data": {
      "text/plain": [
       "TD3(state_dim=40, neurons=[64, 64], action_dim=2, max_action=1, discount=0.99, tau=0.005, policy_noise=0.2, noise_clip=0.5, policy_freq=2)"
      ]
     },
     "execution_count": 60,
     "metadata": {},
     "output_type": "execute_result"
    }
   ],
   "source": [
    "Q"
   ]
  },
  {
   "cell_type": "code",
   "execution_count": 11,
   "metadata": {},
   "outputs": [
    {
     "data": {
      "text/plain": [
       "torch.Size([100, 128])"
      ]
     },
     "execution_count": 11,
     "metadata": {},
     "output_type": "execute_result"
    }
   ],
   "source": [
    "dist = bvae._encode(D)\n",
    "mu   = dist[:,:bvae.z_dim]\n",
    "ls2  = dist[:,bvae.z_dim:]\n",
    "\n",
    "mu.shape"
   ]
  },
  {
   "cell_type": "code",
   "execution_count": 18,
   "metadata": {},
   "outputs": [
    {
     "data": {
      "text/plain": [
       "torch.Size([100, 8])"
      ]
     },
     "execution_count": 18,
     "metadata": {},
     "output_type": "execute_result"
    }
   ],
   "source": [
    "D.shape"
   ]
  },
  {
   "cell_type": "code",
   "execution_count": 13,
   "metadata": {},
   "outputs": [
    {
     "name": "stderr",
     "output_type": "stream",
     "text": [
      "/tmp/ipykernel_7541/4088500669.py:11: UserWarning: Creating a tensor from a list of numpy.ndarrays is extremely slow. Please consider converting the list to a single numpy.ndarray with numpy.array() before converting to a tensor. (Triggered internally at  ../torch/csrc/utils/tensor_new.cpp:210.)\n",
      "  return torch.Tensor(states)\n"
     ]
    },
    {
     "ename": "RuntimeError",
     "evalue": "mat1 and mat2 shapes cannot be multiplied (1000x8 and 40x64)",
     "output_type": "error",
     "traceback": [
      "\u001b[0;31m---------------------------------------------------------------------------\u001b[0m",
      "\u001b[0;31mRuntimeError\u001b[0m                              Traceback (most recent call last)",
      "\u001b[1;32m/home/jordan/git-workspace/imagined-goals/Untitled-1.ipynb Cell 9'\u001b[0m in \u001b[0;36m<cell line: 1>\u001b[0;34m()\u001b[0m\n\u001b[0;32m----> <a href='vscode-notebook-cell:/home/jordan/git-workspace/imagined-goals/Untitled-1.ipynb#ch0000007?line=0'>1</a>\u001b[0m rig(env, agent, \u001b[39m100\u001b[39;49m, \u001b[39m1000\u001b[39;49m)\n",
      "\u001b[1;32m/home/jordan/git-workspace/imagined-goals/Untitled-1.ipynb Cell 3'\u001b[0m in \u001b[0;36mrig\u001b[0;34m(env, agent, n_episodes, n_exploration, epochs, K)\u001b[0m\n\u001b[1;32m      <a href='vscode-notebook-cell:/home/jordan/git-workspace/imagined-goals/Untitled-1.ipynb#ch0000002?line=0'>1</a>\u001b[0m \u001b[39mdef\u001b[39;00m \u001b[39mrig\u001b[39m(env, agent, n_episodes, n_exploration, epochs \u001b[39m=\u001b[39m \u001b[39m10\u001b[39m, K \u001b[39m=\u001b[39m \u001b[39m10\u001b[39m):\n\u001b[1;32m      <a href='vscode-notebook-cell:/home/jordan/git-workspace/imagined-goals/Untitled-1.ipynb#ch0000002?line=1'>2</a>\u001b[0m     D   \u001b[39m=\u001b[39m exploration_policy(env, n_exploration)\n\u001b[0;32m----> <a href='vscode-notebook-cell:/home/jordan/git-workspace/imagined-goals/Untitled-1.ipynb#ch0000002?line=2'>3</a>\u001b[0m     agent\u001b[39m.\u001b[39;49mbvae\u001b[39m.\u001b[39;49mfit(D, epochs \u001b[39m=\u001b[39;49m epochs)\n\u001b[1;32m      <a href='vscode-notebook-cell:/home/jordan/git-workspace/imagined-goals/Untitled-1.ipynb#ch0000002?line=3'>4</a>\u001b[0m     p_z \u001b[39m=\u001b[39m agent\u001b[39m.\u001b[39mprior\n\u001b[1;32m      <a href='vscode-notebook-cell:/home/jordan/git-workspace/imagined-goals/Untitled-1.ipynb#ch0000002?line=4'>5</a>\u001b[0m     \u001b[39mfor\u001b[39;00m i \u001b[39min\u001b[39;00m \u001b[39mrange\u001b[39m(n_episodes):\n",
      "File \u001b[0;32m~/git-workspace/imagined-goals/rlig-env/lib/python3.10/site-packages/rlig/pytorch/bvae.py:96\u001b[0m, in \u001b[0;36mBetaVAE.fit\u001b[0;34m(self, X, epochs)\u001b[0m\n\u001b[1;32m     <a href='file:///home/jordan/git-workspace/imagined-goals/rlig-env/lib/python3.10/site-packages/rlig/pytorch/bvae.py?line=93'>94</a>\u001b[0m \u001b[39mdef\u001b[39;00m \u001b[39mfit\u001b[39m(\u001b[39mself\u001b[39m, X, epochs \u001b[39m=\u001b[39m \u001b[39m1\u001b[39m):\n\u001b[1;32m     <a href='file:///home/jordan/git-workspace/imagined-goals/rlig-env/lib/python3.10/site-packages/rlig/pytorch/bvae.py?line=94'>95</a>\u001b[0m     \u001b[39mfor\u001b[39;00m epoch \u001b[39min\u001b[39;00m \u001b[39mrange\u001b[39m(epochs):\n\u001b[0;32m---> <a href='file:///home/jordan/git-workspace/imagined-goals/rlig-env/lib/python3.10/site-packages/rlig/pytorch/bvae.py?line=95'>96</a>\u001b[0m         \u001b[39mself\u001b[39;49m\u001b[39m.\u001b[39;49m_fit(X)\n\u001b[1;32m     <a href='file:///home/jordan/git-workspace/imagined-goals/rlig-env/lib/python3.10/site-packages/rlig/pytorch/bvae.py?line=96'>97</a>\u001b[0m     \u001b[39mreturn\u001b[39;00m \u001b[39mself\u001b[39m\n",
      "File \u001b[0;32m~/git-workspace/imagined-goals/rlig-env/lib/python3.10/site-packages/rlig/pytorch/bvae.py:84\u001b[0m, in \u001b[0;36mBetaVAE._fit\u001b[0;34m(self, X)\u001b[0m\n\u001b[1;32m     <a href='file:///home/jordan/git-workspace/imagined-goals/rlig-env/lib/python3.10/site-packages/rlig/pytorch/bvae.py?line=81'>82</a>\u001b[0m \u001b[39mdef\u001b[39;00m \u001b[39m_fit\u001b[39m(\u001b[39mself\u001b[39m, X):\n\u001b[0;32m---> <a href='file:///home/jordan/git-workspace/imagined-goals/rlig-env/lib/python3.10/site-packages/rlig/pytorch/bvae.py?line=83'>84</a>\u001b[0m     X_hat, mu, logvar \u001b[39m=\u001b[39m \u001b[39mself\u001b[39;49m\u001b[39m.\u001b[39;49m_encode(X)\n\u001b[1;32m     <a href='file:///home/jordan/git-workspace/imagined-goals/rlig-env/lib/python3.10/site-packages/rlig/pytorch/bvae.py?line=85'>86</a>\u001b[0m     loss \u001b[39m=\u001b[39m reconstruction_loss(X, X_hat) \u001b[39m+\u001b[39m kl_divergence(mu, logvar)\n\u001b[1;32m     <a href='file:///home/jordan/git-workspace/imagined-goals/rlig-env/lib/python3.10/site-packages/rlig/pytorch/bvae.py?line=87'>88</a>\u001b[0m     \u001b[39mself\u001b[39m\u001b[39m.\u001b[39moptim\u001b[39m.\u001b[39mzero_grad()\n",
      "File \u001b[0;32m~/git-workspace/imagined-goals/rlig-env/lib/python3.10/site-packages/rlig/pytorch/bvae.py:74\u001b[0m, in \u001b[0;36mBetaVAE._encode\u001b[0;34m(self, x)\u001b[0m\n\u001b[1;32m     <a href='file:///home/jordan/git-workspace/imagined-goals/rlig-env/lib/python3.10/site-packages/rlig/pytorch/bvae.py?line=72'>73</a>\u001b[0m \u001b[39mdef\u001b[39;00m \u001b[39m_encode\u001b[39m(\u001b[39mself\u001b[39m, x):\n\u001b[0;32m---> <a href='file:///home/jordan/git-workspace/imagined-goals/rlig-env/lib/python3.10/site-packages/rlig/pytorch/bvae.py?line=73'>74</a>\u001b[0m     \u001b[39mreturn\u001b[39;00m \u001b[39mself\u001b[39;49m\u001b[39m.\u001b[39;49mencoder(x)\n",
      "File \u001b[0;32m~/git-workspace/imagined-goals/rlig-env/lib/python3.10/site-packages/torch/nn/modules/module.py:1110\u001b[0m, in \u001b[0;36mModule._call_impl\u001b[0;34m(self, *input, **kwargs)\u001b[0m\n\u001b[1;32m   <a href='file:///home/jordan/git-workspace/imagined-goals/rlig-env/lib/python3.10/site-packages/torch/nn/modules/module.py?line=1105'>1106</a>\u001b[0m \u001b[39m# If we don't have any hooks, we want to skip the rest of the logic in\u001b[39;00m\n\u001b[1;32m   <a href='file:///home/jordan/git-workspace/imagined-goals/rlig-env/lib/python3.10/site-packages/torch/nn/modules/module.py?line=1106'>1107</a>\u001b[0m \u001b[39m# this function, and just call forward.\u001b[39;00m\n\u001b[1;32m   <a href='file:///home/jordan/git-workspace/imagined-goals/rlig-env/lib/python3.10/site-packages/torch/nn/modules/module.py?line=1107'>1108</a>\u001b[0m \u001b[39mif\u001b[39;00m \u001b[39mnot\u001b[39;00m (\u001b[39mself\u001b[39m\u001b[39m.\u001b[39m_backward_hooks \u001b[39mor\u001b[39;00m \u001b[39mself\u001b[39m\u001b[39m.\u001b[39m_forward_hooks \u001b[39mor\u001b[39;00m \u001b[39mself\u001b[39m\u001b[39m.\u001b[39m_forward_pre_hooks \u001b[39mor\u001b[39;00m _global_backward_hooks\n\u001b[1;32m   <a href='file:///home/jordan/git-workspace/imagined-goals/rlig-env/lib/python3.10/site-packages/torch/nn/modules/module.py?line=1108'>1109</a>\u001b[0m         \u001b[39mor\u001b[39;00m _global_forward_hooks \u001b[39mor\u001b[39;00m _global_forward_pre_hooks):\n\u001b[0;32m-> <a href='file:///home/jordan/git-workspace/imagined-goals/rlig-env/lib/python3.10/site-packages/torch/nn/modules/module.py?line=1109'>1110</a>\u001b[0m     \u001b[39mreturn\u001b[39;00m forward_call(\u001b[39m*\u001b[39;49m\u001b[39minput\u001b[39;49m, \u001b[39m*\u001b[39;49m\u001b[39m*\u001b[39;49mkwargs)\n\u001b[1;32m   <a href='file:///home/jordan/git-workspace/imagined-goals/rlig-env/lib/python3.10/site-packages/torch/nn/modules/module.py?line=1110'>1111</a>\u001b[0m \u001b[39m# Do not call functions when jit is used\u001b[39;00m\n\u001b[1;32m   <a href='file:///home/jordan/git-workspace/imagined-goals/rlig-env/lib/python3.10/site-packages/torch/nn/modules/module.py?line=1111'>1112</a>\u001b[0m full_backward_hooks, non_full_backward_hooks \u001b[39m=\u001b[39m [], []\n",
      "File \u001b[0;32m~/git-workspace/imagined-goals/rlig-env/lib/python3.10/site-packages/torch/nn/modules/container.py:141\u001b[0m, in \u001b[0;36mSequential.forward\u001b[0;34m(self, input)\u001b[0m\n\u001b[1;32m    <a href='file:///home/jordan/git-workspace/imagined-goals/rlig-env/lib/python3.10/site-packages/torch/nn/modules/container.py?line=138'>139</a>\u001b[0m \u001b[39mdef\u001b[39;00m \u001b[39mforward\u001b[39m(\u001b[39mself\u001b[39m, \u001b[39minput\u001b[39m):\n\u001b[1;32m    <a href='file:///home/jordan/git-workspace/imagined-goals/rlig-env/lib/python3.10/site-packages/torch/nn/modules/container.py?line=139'>140</a>\u001b[0m     \u001b[39mfor\u001b[39;00m module \u001b[39min\u001b[39;00m \u001b[39mself\u001b[39m:\n\u001b[0;32m--> <a href='file:///home/jordan/git-workspace/imagined-goals/rlig-env/lib/python3.10/site-packages/torch/nn/modules/container.py?line=140'>141</a>\u001b[0m         \u001b[39minput\u001b[39m \u001b[39m=\u001b[39m module(\u001b[39minput\u001b[39;49m)\n\u001b[1;32m    <a href='file:///home/jordan/git-workspace/imagined-goals/rlig-env/lib/python3.10/site-packages/torch/nn/modules/container.py?line=141'>142</a>\u001b[0m     \u001b[39mreturn\u001b[39;00m \u001b[39minput\u001b[39m\n",
      "File \u001b[0;32m~/git-workspace/imagined-goals/rlig-env/lib/python3.10/site-packages/torch/nn/modules/module.py:1110\u001b[0m, in \u001b[0;36mModule._call_impl\u001b[0;34m(self, *input, **kwargs)\u001b[0m\n\u001b[1;32m   <a href='file:///home/jordan/git-workspace/imagined-goals/rlig-env/lib/python3.10/site-packages/torch/nn/modules/module.py?line=1105'>1106</a>\u001b[0m \u001b[39m# If we don't have any hooks, we want to skip the rest of the logic in\u001b[39;00m\n\u001b[1;32m   <a href='file:///home/jordan/git-workspace/imagined-goals/rlig-env/lib/python3.10/site-packages/torch/nn/modules/module.py?line=1106'>1107</a>\u001b[0m \u001b[39m# this function, and just call forward.\u001b[39;00m\n\u001b[1;32m   <a href='file:///home/jordan/git-workspace/imagined-goals/rlig-env/lib/python3.10/site-packages/torch/nn/modules/module.py?line=1107'>1108</a>\u001b[0m \u001b[39mif\u001b[39;00m \u001b[39mnot\u001b[39;00m (\u001b[39mself\u001b[39m\u001b[39m.\u001b[39m_backward_hooks \u001b[39mor\u001b[39;00m \u001b[39mself\u001b[39m\u001b[39m.\u001b[39m_forward_hooks \u001b[39mor\u001b[39;00m \u001b[39mself\u001b[39m\u001b[39m.\u001b[39m_forward_pre_hooks \u001b[39mor\u001b[39;00m _global_backward_hooks\n\u001b[1;32m   <a href='file:///home/jordan/git-workspace/imagined-goals/rlig-env/lib/python3.10/site-packages/torch/nn/modules/module.py?line=1108'>1109</a>\u001b[0m         \u001b[39mor\u001b[39;00m _global_forward_hooks \u001b[39mor\u001b[39;00m _global_forward_pre_hooks):\n\u001b[0;32m-> <a href='file:///home/jordan/git-workspace/imagined-goals/rlig-env/lib/python3.10/site-packages/torch/nn/modules/module.py?line=1109'>1110</a>\u001b[0m     \u001b[39mreturn\u001b[39;00m forward_call(\u001b[39m*\u001b[39;49m\u001b[39minput\u001b[39;49m, \u001b[39m*\u001b[39;49m\u001b[39m*\u001b[39;49mkwargs)\n\u001b[1;32m   <a href='file:///home/jordan/git-workspace/imagined-goals/rlig-env/lib/python3.10/site-packages/torch/nn/modules/module.py?line=1110'>1111</a>\u001b[0m \u001b[39m# Do not call functions when jit is used\u001b[39;00m\n\u001b[1;32m   <a href='file:///home/jordan/git-workspace/imagined-goals/rlig-env/lib/python3.10/site-packages/torch/nn/modules/module.py?line=1111'>1112</a>\u001b[0m full_backward_hooks, non_full_backward_hooks \u001b[39m=\u001b[39m [], []\n",
      "File \u001b[0;32m~/git-workspace/imagined-goals/rlig-env/lib/python3.10/site-packages/torch/nn/modules/linear.py:103\u001b[0m, in \u001b[0;36mLinear.forward\u001b[0;34m(self, input)\u001b[0m\n\u001b[1;32m    <a href='file:///home/jordan/git-workspace/imagined-goals/rlig-env/lib/python3.10/site-packages/torch/nn/modules/linear.py?line=101'>102</a>\u001b[0m \u001b[39mdef\u001b[39;00m \u001b[39mforward\u001b[39m(\u001b[39mself\u001b[39m, \u001b[39minput\u001b[39m: Tensor) \u001b[39m-\u001b[39m\u001b[39m>\u001b[39m Tensor:\n\u001b[0;32m--> <a href='file:///home/jordan/git-workspace/imagined-goals/rlig-env/lib/python3.10/site-packages/torch/nn/modules/linear.py?line=102'>103</a>\u001b[0m     \u001b[39mreturn\u001b[39;00m F\u001b[39m.\u001b[39;49mlinear(\u001b[39minput\u001b[39;49m, \u001b[39mself\u001b[39;49m\u001b[39m.\u001b[39;49mweight, \u001b[39mself\u001b[39;49m\u001b[39m.\u001b[39;49mbias)\n",
      "\u001b[0;31mRuntimeError\u001b[0m: mat1 and mat2 shapes cannot be multiplied (1000x8 and 40x64)"
     ]
    }
   ],
   "source": [
    "rig(env, agent, 100, 1000)"
   ]
  }
 ],
 "metadata": {
  "interpreter": {
   "hash": "586b13b4937e5526169afa20f89a5a82e678f924c2c70dc79c62d230d7d047cd"
  },
  "kernelspec": {
   "display_name": "Python 3.10.4 ('rlig-env': venv)",
   "language": "python",
   "name": "python3"
  },
  "language_info": {
   "codemirror_mode": {
    "name": "ipython",
    "version": 3
   },
   "file_extension": ".py",
   "mimetype": "text/x-python",
   "name": "python",
   "nbconvert_exporter": "python",
   "pygments_lexer": "ipython3",
   "version": "3.10.4"
  },
  "orig_nbformat": 4
 },
 "nbformat": 4,
 "nbformat_minor": 2
}
